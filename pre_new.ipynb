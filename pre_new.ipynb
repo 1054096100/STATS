{
 "cells": [
  {
   "cell_type": "code",
   "execution_count": 70,
   "metadata": {},
   "outputs": [],
   "source": [
    "import numpy as np\n",
    "import pandas as pd\n",
    "import xlrd\n",
    "import matplotlib.pyplot as plt\n",
    "import seaborn as sns\n"
   ]
  },
  {
   "cell_type": "code",
   "execution_count": 71,
   "metadata": {},
   "outputs": [],
   "source": [
    "df = pd.read_csv(\"./Data/ASCII-comma/CH14/ex14-5.txt\",\",\").reset_index(drop=True)\n",
    "data = df.set_index('Worker')\n",
    "data = data.stack()\n",
    "data.index = data.index.rename('Plan', level=1)\n",
    "data.name = 'Productivity'\n",
    "data = data.reset_index()"
   ]
  },
  {
   "cell_type": "code",
   "execution_count": 72,
   "metadata": {},
   "outputs": [],
   "source": [
    "l = data.shape[0]"
   ]
  },
  {
   "cell_type": "code",
   "execution_count": 73,
   "metadata": {},
   "outputs": [],
   "source": [
    "# 1.a\n",
    "# \\(H_{0}:\\) All incentive plan yield are having equal productivity.\n",
    "# \\(H_{a}:\\) At least one incentive plan yields differing productivity."
   ]
  },
  {
   "cell_type": "code",
   "execution_count": 74,
   "metadata": {},
   "outputs": [],
   "source": [
    "# list all the 'plan's\n",
    "a = df.T.loc['A']\n",
    "b = df.T.loc['B']\n",
    "c = df.T.loc['C']\n",
    "d = df.T.loc['D']"
   ]
  },
  {
   "cell_type": "code",
   "execution_count": 34,
   "metadata": {},
   "outputs": [],
   "source": [
    "# 1.b\n"
   ]
  },
  {
   "cell_type": "code",
   "execution_count": 83,
   "metadata": {},
   "outputs": [
    {
     "data": {
      "image/png": "[encoded data removed]",
      "text/plain": [
       "<Figure size 432x288 with 1 Axes>"
      ]
     },
     "metadata": {},
     "output_type": "display_data"
    }
   ],
   "source": [
    "# 箱型图\n",
    "sns.set(style=\"ticks\", palette=\"pastel\")\n",
    "\n",
    "sns.boxplot(x=\"Plan\", y=\"Productivity\",\n",
    "             palette=[\"m\", \"g\"],\n",
    "            data=data)\n",
    "sns.despine(offset=10, trim=True)"
   ]
  },
  {
   "cell_type": "code",
   "execution_count": 84,
   "metadata": {},
   "outputs": [
    {
     "data": {
      "image/png": "[encoded data removed]",
      "text/plain": [
       "<Figure size 432x288 with 1 Axes>"
      ]
     },
     "metadata": {},
     "output_type": "display_data"
    }
   ],
   "source": [
    "import pylab\n",
    "from scipy import stats\n",
    "stats.probplot(data['Productivity'], dist=\"norm\", plot=pylab) # qq-plot\n",
    "pylab.show()"
   ]
  },
  {
   "cell_type": "code",
   "execution_count": 87,
   "metadata": {},
   "outputs": [
    {
     "data": {
      "text/plain": [
       "80"
      ]
     },
     "execution_count": 87,
     "metadata": {},
     "output_type": "execute_result"
    }
   ],
   "source": [
    "l # > 50, 不适合用shap, < 300, 不适合用 ks"
   ]
  },
  {
   "cell_type": "code",
   "execution_count": 102,
   "metadata": {},
   "outputs": [
    {
     "name": "stdout",
     "output_type": "stream",
     "text": [
      "(0.8754165172576904, 0.014648374170064926)\n",
      "(0.9121683239936829, 0.07010561227798462)\n",
      "(0.7844040393829346, 0.0005103913135826588)\n",
      "(0.9617589116096497, 0.5795571804046631)\n",
      "KstestResult(statistic=1.0, pvalue=0.0)\n",
      "(0.23561738271242805, 0.004894712459462941)\n",
      "(0.15998327393565404, 0.20223034130881642)\n",
      "(0.24423866376526598, 0.0028592491848186525)\n",
      "(0.12458838423274854, 0.5613769381604545)\n"
     ]
    }
   ],
   "source": [
    "print(stats.shapiro(a)) # shapiro 检验 仅供参考\n",
    "print(stats.shapiro(b))\n",
    "print(stats.shapiro(c)) \n",
    "print(stats.shapiro(d)) \n",
    "print(stats.kstest(data['Productivity'], 'norm')) # k-s 检验 仅供参考\n",
    "\n",
    "\n",
    "from statsmodels.stats.diagnostic import lilliefors\n",
    "print(lilliefors(a)) # lilliefors 检验，部分不正态, so transfer\n",
    "print(lilliefors(b))\n",
    "print(lilliefors(c))\n",
    "print(lilliefors(d))"
   ]
  },
  {
   "cell_type": "code",
   "execution_count": 93,
   "metadata": {},
   "outputs": [
    {
     "data": {
      "text/plain": [
       "LeveneResult(statistic=2.0619612832681455, pvalue=0.11230932572459755)"
      ]
     },
     "execution_count": 93,
     "metadata": {},
     "output_type": "execute_result"
    }
   ],
   "source": [
    "import scipy.stats\n",
    "scipy.stats.levene(a,b,c,d,center='median') # 方差齐次"
   ]
  },
  {
   "cell_type": "code",
   "execution_count": 94,
   "metadata": {},
   "outputs": [],
   "source": [
    "# transfer\n",
    "x_most_normal, lmbda_optimal = stats.boxcox(data['Productivity'])"
   ]
  },
  {
   "cell_type": "code",
   "execution_count": 95,
   "metadata": {},
   "outputs": [
    {
     "data": {
      "text/plain": [
       "-0.45754909812146655"
      ]
     },
     "execution_count": 95,
     "metadata": {},
     "output_type": "execute_result"
    }
   ],
   "source": [
    "lmbda_optimal # ～ -0.5"
   ]
  },
  {
   "cell_type": "code",
   "execution_count": 105,
   "metadata": {},
   "outputs": [
    {
     "name": "stdout",
     "output_type": "stream",
     "text": [
      "(0.9036062359809875, 0.048209335654973984)\n",
      "(0.9325559139251709, 0.17291471362113953)\n",
      "(0.903323233127594, 0.047620438039302826)\n",
      "(0.9757245779037476, 0.8679212927818298)\n",
      "KstestResult(statistic=0.5132882362454201, pvalue=2.0385013475828667e-05)\n",
      "KstestResult(statistic=0.5129821731666143, pvalue=2.0682924717500763e-05)\n",
      "KstestResult(statistic=0.5104146737720318, pvalue=2.334935614901855e-05)\n",
      "KstestResult(statistic=0.513656855069704, pvalue=2.0031600341401467e-05)\n",
      "(0.1948535105315502, 0.04508151672244269)\n",
      "(0.13891915514687858, 0.39579788797958765)\n",
      "(0.18515279686157915, 0.07071412290428916)\n",
      "(0.08533160140148943, 0.9609490944999963)\n"
     ]
    }
   ],
   "source": [
    "print(stats.shapiro(a**(-0.5))) # shapiro 检验 仅供参考\n",
    "print(stats.shapiro(b**(-0.5)))\n",
    "print(stats.shapiro(c**(-0.5)))\n",
    "print(stats.shapiro(d**(-0.5)))\n",
    "print(stats.kstest(a**(-0.5), 'norm')) # k-s 检验 仅供参考\n",
    "print(stats.kstest(b**(-0.5), 'norm'))\n",
    "print(stats.kstest(c**(-0.5), 'norm'))\n",
    "print(stats.kstest(d**(-0.5), 'norm'))\n",
    "\n",
    "from statsmodels.stats.diagnostic import lilliefors\n",
    "print(lilliefors(a**(-0.5))) # lilliefors 检验，依然会出现非正态\n",
    "print(lilliefors(b**(-0.5)))\n",
    "print(lilliefors(c**(-0.5)))\n",
    "print(lilliefors(d**(-0.5)))"
   ]
  },
  {
   "cell_type": "code",
   "execution_count": 104,
   "metadata": {},
   "outputs": [
    {
     "data": {
      "text/plain": [
       "LeveneResult(statistic=4.459544819937905, pvalue=0.006123299424499501)"
      ]
     },
     "execution_count": 104,
     "metadata": {},
     "output_type": "execute_result"
    }
   ],
   "source": [
    "scipy.stats.levene(a**(-0.5),b**(-0.5),c**(-0.5),d**(-0.5),center='median') # 如果变换，则方差不齐次，于是考虑 k-w test"
   ]
  },
  {
   "cell_type": "raw",
   "metadata": {},
   "source": [
    "transfer"
   ]
  },
  {
   "cell_type": "code",
   "execution_count": 41,
   "metadata": {},
   "outputs": [
    {
     "name": "stdout",
     "output_type": "stream",
     "text": [
      "Intercept       514.05\n",
      "C(Plan)[T.B]     43.20\n",
      "C(Plan)[T.C]    114.25\n",
      "C(Plan)[T.D]    135.70\n",
      "dtype: float64\n"
     ]
    }
   ],
   "source": [
    "model_str_0 = (('Productivity ~ C(Plan)'))\n",
    "model_0 = ols(model_str_0, data=data).fit()\n",
    "print(model.params)"
   ]
  },
  {
   "cell_type": "code",
   "execution_count": 42,
   "metadata": {},
   "outputs": [
    {
     "data": {
      "text/html": [
       "<div>\n",
       "<style scoped>\n",
       "    .dataframe tbody tr th:only-of-type {\n",
       "        vertical-align: middle;\n",
       "    }\n",
       "\n",
       "    .dataframe tbody tr th {\n",
       "        vertical-align: top;\n",
       "    }\n",
       "\n",
       "    .dataframe thead th {\n",
       "        text-align: right;\n",
       "    }\n",
       "</style>\n",
       "<table border=\"1\" class=\"dataframe\">\n",
       "  <thead>\n",
       "    <tr style=\"text-align: right;\">\n",
       "      <th></th>\n",
       "      <th>df</th>\n",
       "      <th>sum_sq</th>\n",
       "      <th>mean_sq</th>\n",
       "      <th>F</th>\n",
       "      <th>PR(&gt;F)</th>\n",
       "    </tr>\n",
       "  </thead>\n",
       "  <tbody>\n",
       "    <tr>\n",
       "      <th>C(Plan)</th>\n",
       "      <td>3.0</td>\n",
       "      <td>2.369912e+05</td>\n",
       "      <td>78997.079167</td>\n",
       "      <td>2.02039</td>\n",
       "      <td>0.118133</td>\n",
       "    </tr>\n",
       "    <tr>\n",
       "      <th>Residual</th>\n",
       "      <td>76.0</td>\n",
       "      <td>2.971587e+06</td>\n",
       "      <td>39099.824342</td>\n",
       "      <td></td>\n",
       "      <td></td>\n",
       "    </tr>\n",
       "  </tbody>\n",
       "</table>\n",
       "</div>"
      ],
      "text/plain": [
       "            df        sum_sq       mean_sq        F    PR(>F)\n",
       "C(Plan)    3.0  2.369912e+05  78997.079167  2.02039  0.118133\n",
       "Residual  76.0  2.971587e+06  39099.824342                   "
      ]
     },
     "execution_count": 42,
     "metadata": {},
     "output_type": "execute_result"
    }
   ],
   "source": [
    "# 又由于anova 在方差齐次的条件下有一定的容忍度，所以使用原数据：\n",
    "anova_table_0 = sm.stats.anova_lm(model_0, typ=1).replace(np.nan, '', regex=True)\n",
    "anova_table_0 "
   ]
  },
  {
   "cell_type": "raw",
   "metadata": {},
   "source": [
    "通过anova，得p-value = 0.118 > 0.05, 没有足够证据表明与四个激励计划相关的平均产出不同。"
   ]
  },
  {
   "cell_type": "code",
   "execution_count": 108,
   "metadata": {},
   "outputs": [
    {
     "data": {
      "text/plain": [
       "KruskalResult(statistic=9.305435394246341, pvalue=0.025493876172639596)"
      ]
     },
     "execution_count": 108,
     "metadata": {},
     "output_type": "execute_result"
    }
   ],
   "source": [
    "scipy.stats.kruskal(a,b,c,d) # 变换前后的数据不会对 k-w 有影响，所以使用原数据，p-value 《 0.05 ，由于 k-w 更加保守，所以认为正态性超过了 anova的容忍范围"
   ]
  },
  {
   "cell_type": "code",
   "execution_count": null,
   "metadata": {},
   "outputs": [],
   "source": [
    "# 方差齐次\n"
   ]
  },
  {
   "cell_type": "code",
   "execution_count": null,
   "metadata": {},
   "outputs": [],
   "source": [
    "# 1.c"
   ]
  },
  {
   "cell_type": "code",
   "execution_count": 113,
   "metadata": {},
   "outputs": [
    {
     "data": {
      "text/html": [
       "<table class=\"simpletable\">\n",
       "<caption>Multiple Comparison of Means - Tukey HSD, FWER=0.05</caption>\n",
       "<tr>\n",
       "  <th>group1</th> <th>group2</th> <th>meandiff</th>  <th>p-adj</th>   <th>lower</th>     <th>upper</th>  <th>reject</th>\n",
       "</tr>\n",
       "<tr>\n",
       "     <td>A</td>      <td>B</td>     <td>43.2</td>   <td>0.8969</td> <td>-121.0588</td> <td>207.4588</td>  <td>False</td>\n",
       "</tr>\n",
       "<tr>\n",
       "     <td>A</td>      <td>C</td>    <td>114.25</td>  <td>0.2689</td> <td>-50.0088</td>  <td>278.5088</td>  <td>False</td>\n",
       "</tr>\n",
       "<tr>\n",
       "     <td>A</td>      <td>D</td>     <td>135.7</td>  <td>0.1409</td> <td>-28.5588</td>  <td>299.9588</td>  <td>False</td>\n",
       "</tr>\n",
       "<tr>\n",
       "     <td>B</td>      <td>C</td>     <td>71.05</td>  <td>0.6494</td> <td>-93.2088</td>  <td>235.3088</td>  <td>False</td>\n",
       "</tr>\n",
       "<tr>\n",
       "     <td>B</td>      <td>D</td>     <td>92.5</td>   <td>0.4562</td> <td>-71.7588</td>  <td>256.7588</td>  <td>False</td>\n",
       "</tr>\n",
       "<tr>\n",
       "     <td>C</td>      <td>D</td>     <td>21.45</td>    <td>0.9</td>  <td>-142.8088</td> <td>185.7088</td>  <td>False</td>\n",
       "</tr>\n",
       "</table>"
      ],
      "text/plain": [
       "<class 'statsmodels.iolib.table.SimpleTable'>"
      ]
     },
     "execution_count": 113,
     "metadata": {},
     "output_type": "execute_result"
    }
   ],
   "source": [
    "# 由于方差齐次，且 tukey 不要求正态性\n",
    "# tukey w\n",
    "from statsmodels.stats.multicomp import (pairwise_tukeyhsd,\n",
    "                                         MultiComparison)\n",
    "\n",
    "MultiComp = MultiComparison(data['Productivity'],\n",
    "                            data['Plan'])\n",
    "MultiComp.tukeyhsd().summary() # p-value 》 0。05， 所有pair的ci都包含0，所以没有配对在均值上有明显区别"
   ]
  },
  {
   "cell_type": "code",
   "execution_count": 114,
   "metadata": {},
   "outputs": [],
   "source": [
    "# 2.a\n",
    "# 这我们之前就已经讨论过了，方差齐次性和正态性检验无法同时满足，且正态性检验始终无法满足。"
   ]
  },
  {
   "cell_type": "code",
   "execution_count": 118,
   "metadata": {},
   "outputs": [
    {
     "name": "stdout",
     "output_type": "stream",
     "text": [
      "LeveneResult(statistic=0.03465597431214312, pvalue=0.8533086355308221)\n",
      "LeveneResult(statistic=0.704731756031713, pvalue=0.4064488609249448)\n",
      "LeveneResult(statistic=4.42232000315996, pvalue=0.04214953428826169)\n"
     ]
    }
   ],
   "source": [
    "# 2.b\n",
    "# 由于正态性难以满足，考虑使用中位数评估的 bfl-test，考虑是 3组 与 control 组的方差区别，为了逻辑上的通顺，不使用四组同时进行 bfl 判断，而是三个组轮流和 control 比较：\n",
    "print(scipy.stats.levene(a,b,center='median')) # 方差齐次\n",
    "print(scipy.stats.levene(a,c,center='median'))\n",
    "print(scipy.stats.levene(a,d,center='median')) # a-d 有显著性差异"
   ]
  },
  {
   "cell_type": "code",
   "execution_count": 120,
   "metadata": {},
   "outputs": [],
   "source": [
    "# 2.c 题目没看懂，本来考虑是做独立性检验，起初尝试做整体的正态性检验，然后发现这个论证方法没有道理，后来觉察到自己根本无法做独立性检验，所以在这里讲题目视作一个文字题：\n",
    "# 答：因为这是同一生产线上的同一个工位，做着完全一样的事，在这种场景下进行实验，大家的生产力没有道理会互相影响。\n",
    "# 2.d\n",
    "# 之前我们已经解决了这个问题， 使用 Kruskal-Wallis 检验。"
   ]
  },
  {
   "cell_type": "code",
   "execution_count": null,
   "metadata": {},
   "outputs": [],
   "source": []
  }
 ],
 "metadata": {
  "kernelspec": {
   "display_name": "Python 3",
   "language": "python",
   "name": "python3"
  },
  "language_info": {
   "codemirror_mode": {
    "name": "ipython",
    "version": 3
   },
   "file_extension": ".py",
   "mimetype": "text/x-python",
   "name": "python",
   "nbconvert_exporter": "python",
   "pygments_lexer": "ipython3",
   "version": "3.7.6"
  }
 },
 "nbformat": 4,
 "nbformat_minor": 4
}
